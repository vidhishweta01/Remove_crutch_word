{
 "cells": [
  {
   "cell_type": "code",
   "execution_count": 15,
   "metadata": {},
   "outputs": [],
   "source": [
    "import findspark      # @uthor Shweta Srivastava\n",
    "findspark.init()      # vidhishweta01@gmail.com, 9453039649"
   ]
  },
  {
   "cell_type": "code",
   "execution_count": 16,
   "metadata": {},
   "outputs": [],
   "source": [
    "from pyspark import SparkContext, SparkConf"
   ]
  },
  {
   "cell_type": "code",
   "execution_count": 17,
   "metadata": {},
   "outputs": [],
   "source": [
    "conf = SparkConf().setAppName(\"remove crutch_wrd\")"
   ]
  },
  {
   "cell_type": "code",
   "execution_count": 18,
   "metadata": {},
   "outputs": [],
   "source": [
    "sc = SparkContext(conf=conf) "
   ]
  },
  {
   "cell_type": "code",
   "execution_count": 20,
   "metadata": {},
   "outputs": [],
   "source": [
    "def crutch_wrd(filename): #here a mere assumed file is taken     \n",
    "    strg=[]               #we can do this for many files in one go and get the result\n",
    "    f=open(filename,'r')  #like if we have a list of names of files we can map the function\n",
    "    str=f.readlines()     #crutch_wrd in RDD and get resulted list of lines. \n",
    "    for i in str:         # which can be then mapped with function cr to get the desired result\n",
    "        i=i.strip('\\n')\n",
    "        strg=strg+[i]\n",
    "    return(strg)\n",
    "    f.close()"
   ]
  },
  {
   "cell_type": "code",
   "execution_count": 21,
   "metadata": {},
   "outputs": [],
   "source": [
    "k=crutch_wrd(\"ab.txt\") #input text file in place of <file_name>"
   ]
  },
  {
   "cell_type": "code",
   "execution_count": 22,
   "metadata": {},
   "outputs": [],
   "source": [
    "k_rdd=sc.parallelize(k)  #as k is a list we can convert it \n",
    "                        #into RDD in order parallize the task"
   ]
  },
  {
   "cell_type": "code",
   "execution_count": 23,
   "metadata": {},
   "outputs": [],
   "source": [
    "def cr(x):\n",
    "    c=0\n",
    "    ls=['um','ah','you know','uh','actually','really','literally','suddenly','basically','definitely','very','truly','honestly','absolutely','totally','seriously','obviously','well','maybe','i guess','somehow','i suppose','regardless','nevertheless','for what it’s worth','er','so','um']\n",
    "    x=x.lower\n",
    "    for i in ls:\n",
    "        if(i in x):\n",
    "            c=c+1\n",
    "    x1=x.split(\" \")\n",
    "    return(c/len(x1))"
   ]
  },
  {
   "cell_type": "code",
   "execution_count": 26,
   "metadata": {},
   "outputs": [],
   "source": [
    "from operator import add"
   ]
  },
  {
   "cell_type": "code",
   "execution_count": null,
   "metadata": {},
   "outputs": [],
   "source": [
    "k1=k_rdd.map(cr).reduce(add)# k1 is the degree of crutch\n",
    "                            #words used in whole text"
   ]
  }
 ],
 "metadata": {
  "kernelspec": {
   "display_name": "Python 3",
   "language": "python",
   "name": "python3"
  },
  "language_info": {
   "codemirror_mode": {
    "name": "ipython",
    "version": 3
   },
   "file_extension": ".py",
   "mimetype": "text/x-python",
   "name": "python",
   "nbconvert_exporter": "python",
   "pygments_lexer": "ipython3",
   "version": "3.6.4"
  }
 },
 "nbformat": 4,
 "nbformat_minor": 2
}
